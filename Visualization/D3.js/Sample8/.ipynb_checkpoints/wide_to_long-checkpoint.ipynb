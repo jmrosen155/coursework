{
 "cells": [
  {
   "cell_type": "code",
   "execution_count": 1,
   "metadata": {
    "collapsed": false
   },
   "outputs": [
    {
     "data": {
      "text/html": [
       "<div style=\"max-height:1000px;max-width:1500px;overflow:auto;\">\n",
       "<table border=\"1\" class=\"dataframe\">\n",
       "  <thead>\n",
       "    <tr style=\"text-align: right;\">\n",
       "      <th></th>\n",
       "      <th>Country Name</th>\n",
       "      <th>Country Code</th>\n",
       "      <th>Indicator Name</th>\n",
       "      <th>Indicator Code</th>\n",
       "      <th>year</th>\n",
       "      <th>life expectancy</th>\n",
       "    </tr>\n",
       "  </thead>\n",
       "  <tbody>\n",
       "    <tr>\n",
       "      <th>0</th>\n",
       "      <td>       Aruba</td>\n",
       "      <td> ABW</td>\n",
       "      <td> Life expectancy at birth, total (years)</td>\n",
       "      <td> SP.DYN.LE00.IN</td>\n",
       "      <td> 1960</td>\n",
       "      <td> 65.569366</td>\n",
       "    </tr>\n",
       "    <tr>\n",
       "      <th>1</th>\n",
       "      <td>     Andorra</td>\n",
       "      <td> AND</td>\n",
       "      <td> Life expectancy at birth, total (years)</td>\n",
       "      <td> SP.DYN.LE00.IN</td>\n",
       "      <td> 1960</td>\n",
       "      <td>       NaN</td>\n",
       "    </tr>\n",
       "    <tr>\n",
       "      <th>2</th>\n",
       "      <td> Afghanistan</td>\n",
       "      <td> AFG</td>\n",
       "      <td> Life expectancy at birth, total (years)</td>\n",
       "      <td> SP.DYN.LE00.IN</td>\n",
       "      <td> 1960</td>\n",
       "      <td> 31.580049</td>\n",
       "    </tr>\n",
       "    <tr>\n",
       "      <th>3</th>\n",
       "      <td>      Angola</td>\n",
       "      <td> AGO</td>\n",
       "      <td> Life expectancy at birth, total (years)</td>\n",
       "      <td> SP.DYN.LE00.IN</td>\n",
       "      <td> 1960</td>\n",
       "      <td> 32.984829</td>\n",
       "    </tr>\n",
       "    <tr>\n",
       "      <th>4</th>\n",
       "      <td>     Albania</td>\n",
       "      <td> ALB</td>\n",
       "      <td> Life expectancy at birth, total (years)</td>\n",
       "      <td> SP.DYN.LE00.IN</td>\n",
       "      <td> 1960</td>\n",
       "      <td> 62.254366</td>\n",
       "    </tr>\n",
       "  </tbody>\n",
       "</table>\n",
       "</div>"
      ],
      "text/plain": [
       "  Country Name Country Code                           Indicator Name  \\\n",
       "0        Aruba          ABW  Life expectancy at birth, total (years)   \n",
       "1      Andorra          AND  Life expectancy at birth, total (years)   \n",
       "2  Afghanistan          AFG  Life expectancy at birth, total (years)   \n",
       "3       Angola          AGO  Life expectancy at birth, total (years)   \n",
       "4      Albania          ALB  Life expectancy at birth, total (years)   \n",
       "\n",
       "   Indicator Code  year  life expectancy  \n",
       "0  SP.DYN.LE00.IN  1960        65.569366  \n",
       "1  SP.DYN.LE00.IN  1960              NaN  \n",
       "2  SP.DYN.LE00.IN  1960        31.580049  \n",
       "3  SP.DYN.LE00.IN  1960        32.984829  \n",
       "4  SP.DYN.LE00.IN  1960        62.254366  "
      ]
     },
     "execution_count": 1,
     "metadata": {},
     "output_type": "execute_result"
    }
   ],
   "source": [
    "import pandas as pd\n",
    "df = pd.read_csv(\"life_expectancy_wide.csv\")\n",
    "melted = pd.melt(df, id_vars=['Country Name', 'Country Code', 'Indicator Name', 'Indicator Code'], var_name='Year', value_name='Life Expectancy')\n",
    "melted.to_csv(\"life_expectancy_long.csv\", index=False)\n",
    "melted.head()"
   ]
  },
  {
   "cell_type": "code",
   "execution_count": null,
   "metadata": {
    "collapsed": true
   },
   "outputs": [],
   "source": []
  }
 ],
 "metadata": {
  "kernelspec": {
   "display_name": "Python 2",
   "language": "python",
   "name": "python2"
  },
  "language_info": {
   "codemirror_mode": {
    "name": "ipython",
    "version": 2
   },
   "file_extension": ".py",
   "mimetype": "text/x-python",
   "name": "python",
   "nbconvert_exporter": "python",
   "pygments_lexer": "ipython2",
   "version": "2.7.10"
  }
 },
 "nbformat": 4,
 "nbformat_minor": 0
}
